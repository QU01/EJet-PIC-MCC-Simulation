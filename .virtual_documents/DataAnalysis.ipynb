import pandas as pd
import numpy as np
import matplotlib.pyplot as plt
import seaborn as sns
from scipy import stats
from sklearn.preprocessing import StandardScaler, PolynomialFeatures
from sklearn.decomposition import PCA
from sklearn.cluster import KMeans

# Set aesthetic style for plots
def load_and_analyze_efficiency(file_path='simulation_data/efficiency_vs_energy.csv'):
    """
    Comprehensive analysis of electron efficiency data.
    
    Parameters:
    -----------
    file_path : str
        Path to the CSV file containing efficiency data
        
    Returns:
    --------
    df : pandas.DataFrame
        The processed dataframe
    """
    print("INITIATING DATA ABSORPTION SEQUENCE...")
    
    # Load the data
    df = pd.read_csv(file_path)
    
    # Display basic information
    print("\nQUANTUM MANIFEST:")
    print(f"Rows: {df.shape[0]}, Columns: {df.shape[1]}")
    print("\nDATA STRUCTURE BLUEPRINT:")
    print(df.dtypes)
    
    # Summary statistics
    print("\nSTATISTICAL PARAMETERS WITHIN ACCEPTABLE TOLERANCES:")
    print(df.describe())
    
    # Check for missing values
    missing = df.isnull().sum()
    if missing.sum() > 0:
        print("\nDATA CORRUPTION DETECTED:")
        print(missing[missing > 0])
    else:
        print("\nINTEGRITY CHECK: COMPLETE. NO VOID ANOMALIES DETECTED.")
    
    # Add efficiency-to-energy ratio as a metric
    df['Efficiency_Energy_Ratio'] = df['Efficiency_percent'] / df['ElectronEnergy_eV']
    
    # Correlation analysis
    print("\nQUANTUM ENTANGLEMENT LEVELS (CORRELATION MATRIX):")
    correlation = df.corr()
    print(correlation)
    
    return df

def visualize_efficiency_trends(df):
    """
    Create a comprehensive set of visualizations for efficiency data.
    
    Parameters:
    -----------
    df : pandas.DataFrame
        The dataframe containing efficiency data
    """
    print("\nINITIATING VISUAL CORTEX STIMULATION SEQUENCE...")
    
    # Create a figure with multiple subplots
    fig = plt.figure(figsize=(20, 15))
    fig.suptitle('ELECTRON EFFICIENCY ANALYSIS', fontsize=20, color='red')
    
    # 1. Efficiency vs Energy for different pressures
    ax1 = plt.subplot(2, 2, 1)
    for pressure in df['Pressure_MPa'].unique():
        subset = df[df['Pressure_MPa'] == pressure]
        subset = subset[subset['MagneticField_T'] == 1.0]  # Fix magnetic field for clarity
        ax1.plot(subset['ElectronEnergy_eV'], subset['Efficiency_percent'], 
                 marker='o', linestyle='-', label=f'Pressure: {pressure} MPa')
    
    ax1.set_xlabel('Electron Energy (eV)')
    ax1.set_ylabel('Efficiency (%)')
    ax1.set_title('Efficiency vs Energy at Different Pressures (B=1T)')
    ax1.legend()
    ax1.grid(True, alpha=0.3)
    
    # 2. Efficiency vs Energy for different magnetic fields
    ax2 = plt.subplot(2, 2, 2)
    for field in df['MagneticField_T'].unique():
        subset = df[df['MagneticField_T'] == field]
        subset = subset[subset['Pressure_MPa'] == 2.0]  # Fix pressure for clarity
        ax2.plot(subset['ElectronEnergy_eV'], subset['Efficiency_percent'], 
                 marker='s', linestyle='--', label=f'B-Field: {field} T')
    
    ax2.set_xlabel('Electron Energy (eV)')
    ax2.set_ylabel('Efficiency (%)')
    ax2.set_title('Efficiency vs Energy at Different Magnetic Fields (P=2MPa)')
    ax2.legend()
    ax2.grid(True, alpha=0.3)
    
    # 3. Heatmap of average efficiency by pressure and magnetic field
    ax3 = plt.subplot(2, 2, 3)
    pivot = df.pivot_table(index='Pressure_MPa', columns='MagneticField_T', 
                          values='Efficiency_percent', aggfunc='mean')
    sns.heatmap(pivot, annot=True, cmap='inferno', fmt=".2f", cbar_kws={'label': 'Average Efficiency (%)'}, ax=ax3)
    ax3.set_title('Average Efficiency by Pressure and Magnetic Field')
    ax3.set_ylabel('Pressure (MPa)')
    ax3.set_xlabel('Magnetic Field (T)')
    
    # 4. 3D plot showing the relationships between all variables
    ax4 = plt.subplot(2, 2, 4, projection='3d')
    
    # Use a colormap to represent efficiency
    colors = plt.cm.viridis(df['Efficiency_percent']/df['Efficiency_percent'].max())
    
    sc = ax4.scatter(df['ElectronEnergy_eV'], df['Pressure_MPa'], df['MagneticField_T'],
               c=df['Efficiency_percent'], cmap='viridis', s=50, alpha=0.7)
    
    ax4.set_xlabel('Electron Energy (eV)')
    ax4.set_ylabel('Pressure (MPa)')
    ax4.set_zlabel('Magnetic Field (T)')
    ax4.set_title('3D Relationship Between Variables')
    fig.colorbar(sc, ax=ax4, label='Efficiency (%)')
    
    plt.tight_layout(rect=[0, 0, 1, 0.96])
    plt.savefig('plots/efficiency_analysis.png', dpi=300, bbox_inches='tight')
    print("VISUALIZATION RENDERED AND SAVED TO: efficiency_analysis.png")
    
    # Additional plots in a new figure
    fig2 = plt.figure(figsize=(20, 10))
    fig2.suptitle('VARIABLE ANALYSIS', fontsize=20, color='red')
    
    # 5. Boxplot of efficiency by energy
    ax5 = plt.subplot(1, 2, 1)
    sns.boxplot(x='ElectronEnergy_eV', y='Efficiency_percent', data=df, ax=ax5, palette='viridis')
    ax5.set_title('Efficiency Distribution by Energy Levels')
    ax5.set_xlabel('Electron Energy (eV)')
    ax5.set_ylabel('Efficiency (%)')
    
    # 6. Efficiency trend with joint pressure and magnetic field
    ax6 = plt.subplot(1, 2, 2)
    # Create a combined parameter
    df['Field_Pressure_Product'] = df['MagneticField_T'] * df['Pressure_MPa']
    
    for energy in df['ElectronEnergy_eV'].unique():
        subset = df[df['ElectronEnergy_eV'] == energy]
        ax6.scatter(subset['Field_Pressure_Product'], subset['Efficiency_percent'], 
                   label=f'Energy: {energy} eV', alpha=0.7)
    
    # Add regression line
    x = df['Field_Pressure_Product']
    y = df['Efficiency_percent']
    z = np.polyfit(x, y, 1)
    p = np.poly1d(z)
    ax6.plot(x, p(x), "r--", alpha=0.8)
    
    ax6.set_xlabel('Magnetic Field × Pressure (T·MPa)')
    ax6.set_ylabel('Efficiency (%)')
    ax6.set_title('Efficiency vs Combined Field-Pressure Parameter')
    ax6.legend()
    ax6.grid(True, alpha=0.3)
    
    plt.tight_layout(rect=[0, 0, 1, 0.96])
    plt.savefig('plots/efficiency_advanced_analysis.png', dpi=300, bbox_inches='tight')
    print("ADVANCED VISUALIZATION RENDERED AND SAVED TO: efficiency_advanced_analysis.png")

def perform_advanced_analysis(df):
    """
    Perform advanced statistical analysis and machine learning
    to extract deeper insights from the efficiency data.
    
    Parameters:
    -----------
    df : pandas.DataFrame
        The dataframe containing efficiency data
        
    Returns:
    --------
    results : dict
        Dictionary containing analysis results
    """
    print("\nCOMMENCING HIGHER-DIMENSIONAL ANALYSIS PROTOCOLS...")
    
    results = {}
    
    # 1. Multiple regression to model efficiency
    X = df[['ElectronEnergy_eV', 'Pressure_MPa', 'MagneticField_T']]
    y = df['Efficiency_percent']
    
    # Add squared and interaction terms
    X['Energy_Squared'] = X['ElectronEnergy_eV'] ** 2
    X['Pressure_Squared'] = X['Pressure_MPa'] ** 2
    X['Field_Squared'] = X['MagneticField_T'] ** 2
    X['Energy_Pressure'] = X['ElectronEnergy_eV'] * X['Pressure_MPa']
    X['Energy_Field'] = X['ElectronEnergy_eV'] * X['MagneticField_T']
    X['Pressure_Field'] = X['Pressure_MPa'] * X['MagneticField_T']
    
    # Add constant term
    X = np.column_stack((np.ones(X.shape[0]), X))
    
    # Perform regression
    model = np.linalg.lstsq(X, y, rcond=None)[0]
    
    # Get model coefficients
    coef_names = ['Intercept', 'ElectronEnergy_eV', 'Pressure_MPa', 'MagneticField_T',
                 'Energy_Squared', 'Pressure_Squared', 'Field_Squared',
                 'Energy_Pressure', 'Energy_Field', 'Pressure_Field']
    
    coefficients = dict(zip(coef_names, model))
    results['regression_coefficients'] = coefficients
    
    print("\nQUANTUM EFFICIENCY MODEL COEFFICIENTS:")
    for name, value in coefficients.items():
        print(f"{name}: {value:.6f}")
    
    # Predict efficiency using model
    y_pred = X.dot(model)
    r_squared = 1 - (np.sum((y - y_pred)**2) / np.sum((y - np.mean(y))**2))
    results['r_squared'] = r_squared
    print(f"\nMODEL PRECISION: R² = {r_squared:.6f}")
    
    # 2. Perform PCA to identify main components of variation
    scaler = StandardScaler()
    scaled_data = scaler.fit_transform(df[['ElectronEnergy_eV', 'Pressure_MPa', 'MagneticField_T', 'Efficiency_percent']])
    
    pca = PCA()
    pca_result = pca.fit_transform(scaled_data)
    
    print("\nDIMENSIONAL REDUCTION ANALYSIS:")
    print(f"Explained variance ratio: {pca.explained_variance_ratio_}")
    
    results['pca_variance_ratio'] = pca.explained_variance_ratio_
    results['pca_components'] = pca.components_
    
    # 3. Identify optimal operating conditions
    # For maximum efficiency
    max_eff_idx = df['Efficiency_percent'].idxmax()
    optimal_conditions = df.loc[max_eff_idx]
    
    print("\nOPTIMAL QUANTUM CONFIGURATION DETECTED:")
    print(f"Energy: {optimal_conditions['ElectronEnergy_eV']} eV")
    print(f"Pressure: {optimal_conditions['Pressure_MPa']} MPa")
    print(f"Magnetic Field: {optimal_conditions['MagneticField_T']} T")
    print(f"Maximum Efficiency: {optimal_conditions['Efficiency_percent']:.2f}%")
    
    results['optimal_conditions'] = {
        'energy': optimal_conditions['ElectronEnergy_eV'],
        'pressure': optimal_conditions['Pressure_MPa'],
        'magnetic_field': optimal_conditions['MagneticField_T'],
        'efficiency': optimal_conditions['Efficiency_percent']
    }
    
    return results

def generate_mathematical_model(df):
    """
    Create a mathematical model that predicts efficiency
    based on energy, pressure, and magnetic field.
    
    Parameters:
    -----------
    df : pandas.DataFrame
        The dataframe containing efficiency data
        
    Returns:
    --------
    model_formula : str
        The mathematical formula as a string
    """
    print("\nSYNTHESIZING QUANTUM EFFICIENCY EQUATION...")
    
    # Prepare data for modeling
    X = df[['ElectronEnergy_eV', 'Pressure_MPa', 'MagneticField_T']]
    X['Energy_Squared'] = X['ElectronEnergy_eV'] ** 2
    X['Pressure_Field'] = X['Pressure_MPa'] * X['MagneticField_T']
    X = np.column_stack((np.ones(X.shape[0]), X))
    
    y = df['Efficiency_percent']
    
    # Perform regression
    model = np.linalg.lstsq(X, y, rcond=None)[0]
    
    # Round coefficients for readability
    coefs = [round(c, 4) for c in model]
    print("Coefs: " + str(coefs))
    
    # Create model formula
    formula = (f"Efficiency(%) = {coefs[0]} + "
              f"{coefs[1]} × Energy + "
              f"{coefs[2]} × Pressure + "
              f"{coefs[3]} × MagneticField + "
              f"{coefs[4]} × Energy² + "
              f"{coefs[5]} × Pressure×MagneticField")
    
    print("\nEFFICIENCY PREDICTION FORMULA:")
    print(formula)
    
    # Test the model with a sample prediction
    sample = df.iloc[0]
    e = sample['ElectronEnergy_eV']
    p = sample['Pressure_MPa']
    b = sample['MagneticField_T']
    
    predicted = (coefs[0] + coefs[1]*e + coefs[2]*p + coefs[3]*b + 
                coefs[4]*(e**2) + coefs[5]*p*b)
    
    actual = sample['Efficiency_percent']
    
    print(f"\nMODEL VERIFICATION:")
    print(f"Sample Input: Energy={e}eV, Pressure={p}MPa, Field={b}T")
    print(f"Actual Efficiency: {actual:.2f}%")
    print(f"Model Prediction: {predicted:.2f}%")
    print(f"Prediction Error: {abs(actual-predicted):.2f}%")
    
    return formula

def main():
    """Main function to execute the full analysis."""
    print("===== ELECTRON EFFICIENCY ANALYZER v2.0 =====")
    print("INITIATING SUBATOMIC PERFORMANCE EVALUATION...\n")
    
    # Load and analyze data
    df = load_and_analyze_efficiency()
    
    # Visualize the data
    visualize_efficiency_trends(df)
    
    # Perform advanced analysis
    results = perform_advanced_analysis(df)
    
    # Generate predictive model
    model = generate_mathematical_model(df)
    
    print("\n===== ANALYSIS COMPLETE =====")
    print("QUANTUM EFFICIENCY PROTOCOLS TERMINATED")


main()


import pandas as pd
import numpy as np
import matplotlib.pyplot as plt
import seaborn as sns
from scipy import stats
from sklearn.preprocessing import StandardScaler, PolynomialFeatures
from sklearn.decomposition import PCA
from sklearn.cluster import KMeans
from sklearn.ensemble import RandomForestRegressor
from mpl_toolkits.mplot3d import Axes3D
import os

# Crear directorios para guardar gráficos
os.makedirs('plots/detailed_data', exist_ok=True)
os.makedirs('plots/efficiency_data', exist_ok=True)

def load_datasets():
    """Cargar ambos conjuntos de datos"""
    print("CARGANDO DATASETS...")
    detailed_df = pd.read_csv('simulation_data/detailed_simulation_data.csv')
    efficiency_df = pd.read_csv('simulation_data/efficiency_vs_energy.csv')
    
    print("\nESTADÍSTICAS DETALLADAS:")
    print(detailed_df.describe())
    print("\nESTADÍSTICAS EFICIENCIA:")
    print(efficiency_df.describe())
    
    return detailed_df, efficiency_df

def analyze_detailed_data(df):
    """Análisis detallado del dataset con variables energéticas"""
    print("\nANALIZANDO DATASET DETALLADO...")
    
    # Nuevas características
    df['Energy_Transfer_Efficiency'] = df['Total_Energy_Transfer_J'] / df['Input_Energy_J']
    df['Inelastic_Ratio'] = df['Inelastic_Energy_Transfer_J'] / df['Total_Energy_Transfer_J']
    
    # Matriz de correlación mejorada
    plt.figure(figsize=(12, 10))
    corr = df.corr()
    sns.heatmap(corr, annot=True, cmap='coolwarm', fmt=".2f")
    plt.title("MATRIZ DE CORRELACIÓN - DATOS DETALLADOS")
    plt.savefig('plots/detailed_data/correlation_matrix.png')
    
    # Pairplot multidimensional
    sns.pairplot(df[['Electron_Count', 'Input_Energy_J', 'Total_Energy_Transfer_J', 'Efficiency_percent']])
    plt.suptitle('RELACIONES MULTIDIMENSIONALES - DATOS DETALLADOS', y=1.02)
    plt.savefig('plots/detailed_data/pairplot.png')
    
    # Análisis de tiempo vs electrones
    plt.figure(figsize=(12, 6))
    sns.scatterplot(x='Time_microseconds', y='Electron_Count', data=df, hue='Efficiency_percent', size='Input_Energy_J', alpha=0.7)
    plt.title("EVOLUCIÓN DE ELECTRONES EN EL TIEMPO")
    plt.savefig('plots/detailed_data/time_electrons.png')
    
    # Análisis de energía vs eficiencia
    plt.figure(figsize=(12, 6))
    sns.jointplot(x='Input_Energy_J', y='Efficiency_percent', data=df, kind="reg", height=6)
    plt.suptitle("EFICIENCIA VS ENERGÍA DE ENTRADA")
    plt.tight_layout()
    plt.savefig('plots/detailed_data/energy_efficiency.png')
    
    # Distribución de eficiencia por rangos de energía
    energy_bins = pd.qcut(df['Input_Energy_J'], q=5)
    plt.figure(figsize=(12, 6))
    sns.boxplot(x=energy_bins, y='Efficiency_percent', data=df)
    plt.xticks(rotation=45)
    plt.title("DISTRIBUCIÓN DE EFICIENCIA POR RANGOS DE ENERGÍA")
    plt.savefig('plots/detailed_data/efficiency_by_energy.png')
    
    return df

def analyze_efficiency_data(df):
    """Análisis avanzado del dataset de eficiencia"""
    print("\nANALIZANDO DATASET DE EFICIENCIA...")
    
    # Nuevas características
    df['Energy_Field_Ratio'] = df['ElectronEnergy_eV'] / df['MagneticField_T']
    df['Pressure_Field_Index'] = df['Pressure_MPa'] * df['MagneticField_T']
    
    # Visualización 3D mejorada
    fig = plt.figure(figsize=(12, 8))
    ax = fig.add_subplot(111, projection='3d')
    scatter = ax.scatter(df['ElectronEnergy_eV'], df['Pressure_MPa'], df['MagneticField_T'],
                        c=df['FinalEfficiency_percent'], cmap='viridis', s=50)
    ax.set_xlabel('Energía de Electrón (eV)')
    ax.set_ylabel('Presión (MPa)')
    ax.set_zlabel('Campo Magnético (T)')
    plt.title('RELACIÓN 3D ENTRE VARIABLES')
    fig.colorbar(scatter, label='Eficiencia (%)')
    plt.savefig('plots/efficiency_data/3d_relationship.png')
    
    # Análisis de clusterización
    X = df[['ElectronEnergy_eV', 'Pressure_MPa', 'MagneticField_T', 'FinalEfficiency_percent']]
    X_scaled = StandardScaler().fit_transform(X)
    
    # Determinar número óptimo de clusters
    inertia = []
    K = range(1, 10)
    for k in K:
        kmeans = KMeans(n_clusters=k, random_state=42)
        kmeans.fit(X_scaled)
        inertia.append(kmeans.inertia_)
    
    plt.figure(figsize=(8, 5))
    plt.plot(K, inertia, 'bo-')
    plt.xlabel('Número de clusters')
    plt.ylabel('Inercia')
    plt.title('MÉTODO DEL CODO PARA SELECCIÓN DE CLUSTERS')
    plt.savefig('plots/efficiency_data/elbow_method.png')
    
    # Aplicar K-means con 4 clusters
    kmeans = KMeans(n_clusters=4, random_state=42)
    df['Cluster'] = kmeans.fit_predict(X_scaled)
    
    # Visualización de clusters
    plt.figure(figsize=(12, 6))
    sns.pairplot(df, hue='Cluster', palette='viridis', 
                vars=['ElectronEnergy_eV', 'Pressure_MPa', 'MagneticField_T', 'FinalEfficiency_percent'])
    plt.suptitle('ANÁLISIS DE CLUSTERS', y=1.02)
    plt.savefig('plots/efficiency_data/clusters.png')
    
    return df

def advanced_analysis(df_detailed, df_efficiency):
    """Análisis avanzado combinando técnicas estadísticas y ML"""
    print("\nREALIZANDO ANÁLISIS AVANZADO...")
    
    # Análisis de regresión con Random Forest para datos detallados
    X_detailed = df_detailed[['Input_Energy_J', 'Electron_Count']]
    y_detailed = df_detailed['Efficiency_percent']
    
    model_detailed = RandomForestRegressor(n_estimators=100, random_state=42)
    model_detailed.fit(X_detailed, y_detailed)
    
    importance = pd.Series(model_detailed.feature_importances_, index=X_detailed.columns)
    importance.nlargest(10).plot(kind='barh', title='IMPORTANCIA DE VARIABLES - DATOS DETALLADOS')
    plt.savefig('plots/detailed_data/feature_importance.png')
    
    # Análisis de regresión para datos de eficiencia
    X_efficiency = df_efficiency[['ElectronEnergy_eV', 'Pressure_MPa', 'MagneticField_T']]
    X_efficiency = np.column_stack((X_efficiency, 
                                   X_efficiency[:,0]**2, 
                                   X_efficiency[:,1]*X_efficiency[:,2]))
    y_efficiency = df_efficiency['FinalEfficiency_percent']
    
    model_efficiency = np.linalg.lstsq(X_efficiency, y_efficiency, rcond=None)[0]
    
    # Mostrar coeficientes
    print("\nCOEFICIENTES DEL MODELO DE EFICIENCIA:")
    print(f"Intercepto: {model_efficiency[0]:.4f}")
    print(f"Energía: {model_efficiency[1]:.4f}")
    print(f"Presión: {model_efficiency[2]:.4f}")
    print(f"Campo Magnético: {model_efficiency[3]:.4f}")
    print(f"Energía²: {model_efficiency[4]:.4f}")
    print(f"Presión×Campo: {model_efficiency[5]:.4f}")
    
    # Predicción de eficiencia
    y_pred = X_efficiency.dot(model_efficiency)
    r2 = 1 - (np.sum((y_efficiency - y_pred)**2) / np.sum((y_efficiency - y_efficiency.mean())**2))
    print(f"\nR² DEL MODELO: {r2:.4f}")
    
    # Gráfico de predicción vs valores reales
    plt.figure(figsize=(10, 6))
    plt.scatter(y_efficiency, y_pred, alpha=0.7)
    plt.plot([y_efficiency.min(), y_efficiency.max()], 
             [y_efficiency.min(), y_efficiency.max()], 'r--')
    plt.xlabel('Eficiencia Real')
    plt.ylabel('Eficiencia Predicha')
    plt.title('PREDICCIÓN VS REALIDAD - MODELO DE EFICIENCIA')
    plt.savefig('plots/efficiency_data/prediction_real.png')
    
    # Análisis de residuos
    residuals = y_efficiency - y_pred
    plt.figure(figsize=(10, 6))
    sns.histplot(residuals, kde=True)
    plt.title('DISTRIBUCIÓN DE RESIDUOS')
    plt.savefig('plots/efficiency_data/residuals.png')
    
    # Análisis de superficie de respuesta para eficiencia
    energy_range = np.linspace(df_efficiency['ElectronEnergy_eV'].min(), 
                              df_efficiency['ElectronEnergy_eV'].max(), 50)
    pressure_range = np.linspace(df_efficiency['Pressure_MPa'].min(),
                               df_efficiency['Pressure_MPa'].max(), 50)
    
    Energy, Pressure = np.meshgrid(energy_range, pressure_range)
    MagneticField = df_efficiency['MagneticField_T'].mean()  # Valor medio del campo
    
    X_grid = np.column_stack((Energy.ravel(), Pressure.ravel(), 
                             np.full_like(Energy.ravel(), MagneticField)))
    X_grid = np.column_stack((X_grid, X_grid[:,0]**2, X_grid[:,1]*X_grid[:,2]))
    
    Efficiency_pred = X_grid.dot(model_efficiency).reshape(Energy.shape)
    
    plt.figure(figsize=(12, 8))
    contour = plt.contourf(Energy, Pressure, Efficiency_pred, 30, cmap='viridis')
    plt.colorbar(contour, label='Eficiencia (%)')
    plt.xlabel('Energía de Electrón (eV)')
    plt.ylabel('Presión (MPa)')
    plt.title(f'SUPERFICIE DE RESPUESTA DE EFICIENCIA (B={MagneticField:.2f}T)')
    plt.savefig('plots/efficiency_data/response_surface.png')
    
    return model_efficiency

def main():
    """Función principal"""
    print("===== ANALIZADOR DE EFICIENCIA ELECTRÓNICA AVANZADO =====")
    print("INICIANDO ANÁLISIS COMPLETO...\n")
    
    # Cargar datasets
    detailed_df, efficiency_df = load_datasets()
    
    # Analizar datos detallados
    detailed_df = analyze_detailed_data(detailed_df)
    
    # Analizar datos de eficiencia
    efficiency_df = analyze_efficiency_data(efficiency_df)
    
    # Análisis avanzado
    efficiency_model = advanced_analysis(detailed_df, efficiency_df)
    
    # Guardar datasets procesados
    detailed_df.to_csv('processed_data/detailed_data_processed.csv', index=False)
    efficiency_df.to_csv('processed_data/efficiency_data_processed.csv', index=False)
    
    print("\n===== ANÁLISIS COMPLETO =====")
    print("RESULTADOS GUARDADOS EN LAS CARPETAS DE GRÁFICOS Y DATOS PROCESADOS")

if __name__ == "__main__":
    main()



